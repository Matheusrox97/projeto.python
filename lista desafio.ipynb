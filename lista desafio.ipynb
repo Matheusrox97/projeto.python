{
 "cells": [
  {
   "cell_type": "code",
   "execution_count": 17,
   "metadata": {},
   "outputs": [
    {
     "name": "stderr",
     "output_type": "stream",
     "text": [
      "/var/folders/cj/fxsvrm2n5hg9s3svd97hl9bc0000gn/T/ipykernel_7744/3047992592.py:6: DtypeWarning: Columns (17,22,23,24,25,26,27,28,29,30,31,32) have mixed types. Specify dtype option on import or set low_memory=False.\n",
      "  df = pd.read_csv('lista_de_espera_sisu_2022_1.csv', sep='|', encoding='latin-1')\n"
     ]
    },
    {
     "name": "stdout",
     "output_type": "stream",
     "text": [
      "Index(['ANO', 'EDICAO', 'ETAPA', 'DS_ETAPA', 'CODIGO_IES', 'NOME_IES',\n",
      "       'SIGLA_IES', 'UF_IES', 'CODIGO_CAMPUS', 'NOME_CAMPUS', 'UF_CAMPUS',\n",
      "       'MUNICIPIO_CAMPUS', 'CODIGO_CURSO', 'NOME_CURSO', 'GRAU', 'TURNO',\n",
      "       'DS_PERIODICIDADE', 'TP_COTA', 'TIPO_MOD_CONCORRENCIA',\n",
      "       'MOD_CONCORRENCIA', 'QT_VAGAS_CONCORRENCIA', 'PERCENTUAL_BONUS',\n",
      "       'PESO_L', 'PESO_CH', 'PESO_CN', 'PESO_M', 'PESO_R', 'NOTA_MINIMA_L',\n",
      "       'NOTA_MINIMA_CH', 'NOTA_MINIMA_CN', 'NOTA_MINIMA_M', 'NOTA_MINIMA_R',\n",
      "       'MEDIA_MINIMA', 'CPF', 'INSCRICAO_ENEM', 'INSCRITO', 'SEXO',\n",
      "       'DATA_NASCIMENTO', 'UF_CANDIDATO', 'MUNICIPIO_CANDIDATO', 'OPCAO',\n",
      "       'NOTA_L', 'NOTA_CH', 'NOTA_CN', 'NOTA_M', 'NOTA_R', 'NOTA_L_COM_PESO',\n",
      "       'NOTA_CH_COM_PESO', 'NOTA_CN_COM_PESO', 'NOTA_M_COM_PESO',\n",
      "       'NOTA_R_COM_PESO', 'NOTA_CANDIDATO', 'NOTA_CORTE', 'CLASSIFICACAO',\n",
      "       'APROVADO', 'MATRICULA'],\n",
      "      dtype='object')\n"
     ]
    }
   ],
   "source": [
    "import pandas as pd\n",
    "import matplotlib.pyplot as plt\n",
    "from fpdf import FPDF\n",
    "\n",
    "# Carregar dados do arquivo CSV\n",
    "df = pd.read_csv('lista_de_espera_sisu_2022_1.csv', sep='|', encoding='latin-1')\n",
    "\n",
    "print(df.columns)\n",
    "# Adicionar coluna NUM_CANDIDATOS com valor fixo\n",
    "df['NUM_CANDIDATOS'] = 3476226\n",
    "# Agrupar dados por universidade e estado\n",
    "df_grouped = df.groupby(['SIGLA_IES', 'UF_IES']).agg({'QT_VAGAS_CONCORRENCIA': 'sum', 'NUM_CANDIDATOS': 'sum'})\n",
    "\n",
    "# Calcular a razão de candidatos por vaga\n",
    "df_grouped['Razao_Candidatos_por_Vaga'] = df_grouped['NUM_CANDIDATOS'] / df_grouped['QT_VAGAS_CONCORRENCIA']\n",
    "\n",
    "# Renomear colunas\n",
    "df_grouped.columns = ['Vagas', 'Candidatos', 'Razao_Candidatos_por_Vaga']"
   ]
  },
  {
   "cell_type": "code",
   "execution_count": 28,
   "metadata": {},
   "outputs": [
    {
     "name": "stdout",
     "output_type": "stream",
     "text": [
      "Index(['ANO', 'EDICAO', 'ETAPA', 'DS_ETAPA', 'CODIGO_IES', 'NOME_IES',\n",
      "       'SIGLA_IES', 'UF_IES', 'CODIGO_CAMPUS', 'NOME_CAMPUS', 'UF_CAMPUS',\n",
      "       'MUNICIPIO_CAMPUS', 'CODIGO_CURSO', 'NOME_CURSO', 'GRAU', 'TURNO',\n",
      "       'DS_PERIODICIDADE', 'TP_COTA', 'TIPO_MOD_CONCORRENCIA',\n",
      "       'MOD_CONCORRENCIA', 'QT_VAGAS_CONCORRENCIA', 'PERCENTUAL_BONUS',\n",
      "       'PESO_L', 'PESO_CH', 'PESO_CN', 'PESO_M', 'PESO_R', 'NOTA_MINIMA_L',\n",
      "       'NOTA_MINIMA_CH', 'NOTA_MINIMA_CN', 'NOTA_MINIMA_M', 'NOTA_MINIMA_R',\n",
      "       'MEDIA_MINIMA', 'CPF', 'INSCRICAO_ENEM', 'INSCRITO', 'SEXO',\n",
      "       'DATA_NASCIMENTO', 'UF_CANDIDATO', 'MUNICIPIO_CANDIDATO', 'OPCAO',\n",
      "       'NOTA_L', 'NOTA_CH', 'NOTA_CN', 'NOTA_M', 'NOTA_R', 'NOTA_L_COM_PESO',\n",
      "       'NOTA_CH_COM_PESO', 'NOTA_CN_COM_PESO', 'NOTA_M_COM_PESO',\n",
      "       'NOTA_R_COM_PESO', 'NOTA_CANDIDATO', 'NOTA_CORTE', 'CLASSIFICACAO',\n",
      "       'APROVADO', 'MATRICULA', 'NUM_CANDIDATOS'],\n",
      "      dtype='object')\n"
     ]
    }
   ],
   "source": [
    "# Filtrar instituições do estado de São Paulo e Minas Gerais\n",
    "df_sp_mg = df[(df['UF_IES'] == 'SP') | (df['UF_IES'] == 'MG')]\n",
    "\n",
    "# Print the columns\n",
    "print(df_sp_mg.columns)"
   ]
  },
  {
   "cell_type": "code",
   "execution_count": 30,
   "metadata": {},
   "outputs": [
    {
     "name": "stdout",
     "output_type": "stream",
     "text": [
      "         ANO  EDICAO  ETAPA         DS_ETAPA  CODIGO_IES  \\\n",
      "1767    2022       1      7  LISTA DE ESPERA         594   \n",
      "1768    2022       1      7  LISTA DE ESPERA         594   \n",
      "1769    2022       1      7  LISTA DE ESPERA         594   \n",
      "1770    2022       1      7  LISTA DE ESPERA         594   \n",
      "1771    2022       1      7  LISTA DE ESPERA         594   \n",
      "...      ...     ...    ...              ...         ...   \n",
      "592956  2022       1      7  LISTA DE ESPERA         596   \n",
      "592957  2022       1      7  LISTA DE ESPERA         596   \n",
      "592958  2022       1      7  LISTA DE ESPERA         596   \n",
      "592959  2022       1      7  LISTA DE ESPERA         596   \n",
      "592960  2022       1      7  LISTA DE ESPERA         596   \n",
      "\n",
      "                                                 NOME_IES SIGLA_IES UF_IES  \\\n",
      "1767    CENTRO FEDERAL DE EDUCAÇÃO TECNOLÓGICA DE MINA...  CEFET/MG     MG   \n",
      "1768    CENTRO FEDERAL DE EDUCAÇÃO TECNOLÓGICA DE MINA...  CEFET/MG     MG   \n",
      "1769    CENTRO FEDERAL DE EDUCAÇÃO TECNOLÓGICA DE MINA...  CEFET/MG     MG   \n",
      "1770    CENTRO FEDERAL DE EDUCAÇÃO TECNOLÓGICA DE MINA...  CEFET/MG     MG   \n",
      "1771    CENTRO FEDERAL DE EDUCAÇÃO TECNOLÓGICA DE MINA...  CEFET/MG     MG   \n",
      "...                                                   ...       ...    ...   \n",
      "592956  UNIVERSIDADE FEDERAL DOS VALES DO JEQUITINHONH...     UFVJM     MG   \n",
      "592957  UNIVERSIDADE FEDERAL DOS VALES DO JEQUITINHONH...     UFVJM     MG   \n",
      "592958  UNIVERSIDADE FEDERAL DOS VALES DO JEQUITINHONH...     UFVJM     MG   \n",
      "592959  UNIVERSIDADE FEDERAL DOS VALES DO JEQUITINHONH...     UFVJM     MG   \n",
      "592960  UNIVERSIDADE FEDERAL DOS VALES DO JEQUITINHONH...     UFVJM     MG   \n",
      "\n",
      "        CODIGO_CAMPUS    NOME_CAMPUS  ... NOTA_CH_COM_PESO NOTA_CN_COM_PESO  \\\n",
      "1767              211  Unidade Araxá  ...            563,2           797,25   \n",
      "1768              211  Unidade Araxá  ...            464,9              702   \n",
      "1769              211  Unidade Araxá  ...            538,4           697,65   \n",
      "1770              211  Unidade Araxá  ...            467,2           725,85   \n",
      "1771              211  Unidade Araxá  ...            556,1           858,15   \n",
      "...               ...            ...  ...              ...              ...   \n",
      "592956        1125670    Campus Unaí  ...           724,35          1059,25   \n",
      "592957        1125670    Campus Unaí  ...              633          1165,75   \n",
      "592958        1125670    Campus Unaí  ...           664,95           892,75   \n",
      "592959        1125670    Campus Unaí  ...           578,55          1158,75   \n",
      "592960        1125670    Campus Unaí  ...           852,75          1395,75   \n",
      "\n",
      "        NOTA_M_COM_PESO NOTA_R_COM_PESO NOTA_CANDIDATO NOTA_CORTE  \\\n",
      "1767               1486            1080         547,09        NaN   \n",
      "1768               1457            1360         563,95        NaN   \n",
      "1769            1295,75            1040         510,25        NaN   \n",
      "1770             1305,5            1360         547,93        NaN   \n",
      "1771            1218,25            1160         538,28        NaN   \n",
      "...                 ...             ...            ...        ...   \n",
      "592956              857            1300         468,21     563,24   \n",
      "592957            957,6            1300         457,79     563,24   \n",
      "592958           1002,4            1000         432,77     563,24   \n",
      "592959           1160,8            1300         488,92     563,24   \n",
      "592960              993            1650         563,24     563,24   \n",
      "\n",
      "       CLASSIFICACAO APROVADO       MATRICULA NUM_CANDIDATOS  \n",
      "1767               2        S  NÃO COMPARECEU        3476226  \n",
      "1768               1        S  NÃO COMPARECEU        3476226  \n",
      "1769               3        S  NÃO COMPARECEU        3476226  \n",
      "1770               1        S  NÃO COMPARECEU        3476226  \n",
      "1771               2        S       EFETIVADA        3476226  \n",
      "...              ...      ...             ...            ...  \n",
      "592956             3        S   NÃO CONVOCADO        3476226  \n",
      "592957             4        S   NÃO CONVOCADO        3476226  \n",
      "592958             5        S   NÃO CONVOCADO        3476226  \n",
      "592959             2        S  NÃO COMPARECEU        3476226  \n",
      "592960             1        S  NÃO COMPARECEU        3476226  \n",
      "\n",
      "[138156 rows x 57 columns]\n"
     ]
    }
   ],
   "source": [
    "print(df_sp_mg)"
   ]
  },
  {
   "cell_type": "code",
   "execution_count": 18,
   "metadata": {},
   "outputs": [],
   "source": [
    "# Ordenar dados por razão de candidatos por vaga em ordem decrescente\n",
    "df_grouped = df_grouped.sort_values(by='Razao_Candidatos_por_Vaga', ascending=False)"
   ]
  },
  {
   "cell_type": "code",
   "execution_count": 36,
   "metadata": {},
   "outputs": [
    {
     "ename": "KeyError",
     "evalue": "'SIGLA'",
     "output_type": "error",
     "traceback": [
      "\u001b[0;31m---------------------------------------------------------------------------\u001b[0m",
      "\u001b[0;31mKeyError\u001b[0m                                  Traceback (most recent call last)",
      "File \u001b[0;32m~/Desktop/Python Kick/venv/lib/python3.12/site-packages/pandas/core/indexes/base.py:3805\u001b[0m, in \u001b[0;36mIndex.get_loc\u001b[0;34m(self, key)\u001b[0m\n\u001b[1;32m   3804\u001b[0m \u001b[38;5;28;01mtry\u001b[39;00m:\n\u001b[0;32m-> 3805\u001b[0m     \u001b[38;5;28;01mreturn\u001b[39;00m \u001b[38;5;28;43mself\u001b[39;49m\u001b[38;5;241;43m.\u001b[39;49m\u001b[43m_engine\u001b[49m\u001b[38;5;241;43m.\u001b[39;49m\u001b[43mget_loc\u001b[49m\u001b[43m(\u001b[49m\u001b[43mcasted_key\u001b[49m\u001b[43m)\u001b[49m\n\u001b[1;32m   3806\u001b[0m \u001b[38;5;28;01mexcept\u001b[39;00m \u001b[38;5;167;01mKeyError\u001b[39;00m \u001b[38;5;28;01mas\u001b[39;00m err:\n",
      "File \u001b[0;32mindex.pyx:167\u001b[0m, in \u001b[0;36mpandas._libs.index.IndexEngine.get_loc\u001b[0;34m()\u001b[0m\n",
      "File \u001b[0;32mindex.pyx:196\u001b[0m, in \u001b[0;36mpandas._libs.index.IndexEngine.get_loc\u001b[0;34m()\u001b[0m\n",
      "File \u001b[0;32mpandas/_libs/hashtable_class_helper.pxi:7081\u001b[0m, in \u001b[0;36mpandas._libs.hashtable.PyObjectHashTable.get_item\u001b[0;34m()\u001b[0m\n",
      "File \u001b[0;32mpandas/_libs/hashtable_class_helper.pxi:7089\u001b[0m, in \u001b[0;36mpandas._libs.hashtable.PyObjectHashTable.get_item\u001b[0;34m()\u001b[0m\n",
      "\u001b[0;31mKeyError\u001b[0m: 'SIGLA'",
      "\nThe above exception was the direct cause of the following exception:\n",
      "\u001b[0;31mKeyError\u001b[0m                                  Traceback (most recent call last)",
      "Cell \u001b[0;32mIn[36], line 2\u001b[0m\n\u001b[1;32m      1\u001b[0m \u001b[38;5;66;03m# Filtrar instituições com sigla que terminam com /SP ou /MG\u001b[39;00m\n\u001b[0;32m----> 2\u001b[0m df_sp_mg \u001b[38;5;241m=\u001b[39m df[(\u001b[43mdf\u001b[49m\u001b[43m[\u001b[49m\u001b[38;5;124;43m'\u001b[39;49m\u001b[38;5;124;43mSIGLA\u001b[39;49m\u001b[38;5;124;43m'\u001b[39;49m\u001b[43m]\u001b[49m\u001b[38;5;241m.\u001b[39mstr\u001b[38;5;241m.\u001b[39mendswith(\u001b[38;5;124m'\u001b[39m\u001b[38;5;124m/SP\u001b[39m\u001b[38;5;124m'\u001b[39m)) \u001b[38;5;241m|\u001b[39m (df[\u001b[38;5;124m'\u001b[39m\u001b[38;5;124mSIGLA\u001b[39m\u001b[38;5;124m'\u001b[39m]\u001b[38;5;241m.\u001b[39mstr\u001b[38;5;241m.\u001b[39mendswith(\u001b[38;5;124m'\u001b[39m\u001b[38;5;124m/MG\u001b[39m\u001b[38;5;124m'\u001b[39m))]\n\u001b[1;32m      4\u001b[0m \u001b[38;5;66;03m# Print the resulting dataframe\u001b[39;00m\n\u001b[1;32m      5\u001b[0m \u001b[38;5;28mprint\u001b[39m(df_sp_mg)\n",
      "File \u001b[0;32m~/Desktop/Python Kick/venv/lib/python3.12/site-packages/pandas/core/frame.py:4102\u001b[0m, in \u001b[0;36mDataFrame.__getitem__\u001b[0;34m(self, key)\u001b[0m\n\u001b[1;32m   4100\u001b[0m \u001b[38;5;28;01mif\u001b[39;00m \u001b[38;5;28mself\u001b[39m\u001b[38;5;241m.\u001b[39mcolumns\u001b[38;5;241m.\u001b[39mnlevels \u001b[38;5;241m>\u001b[39m \u001b[38;5;241m1\u001b[39m:\n\u001b[1;32m   4101\u001b[0m     \u001b[38;5;28;01mreturn\u001b[39;00m \u001b[38;5;28mself\u001b[39m\u001b[38;5;241m.\u001b[39m_getitem_multilevel(key)\n\u001b[0;32m-> 4102\u001b[0m indexer \u001b[38;5;241m=\u001b[39m \u001b[38;5;28;43mself\u001b[39;49m\u001b[38;5;241;43m.\u001b[39;49m\u001b[43mcolumns\u001b[49m\u001b[38;5;241;43m.\u001b[39;49m\u001b[43mget_loc\u001b[49m\u001b[43m(\u001b[49m\u001b[43mkey\u001b[49m\u001b[43m)\u001b[49m\n\u001b[1;32m   4103\u001b[0m \u001b[38;5;28;01mif\u001b[39;00m is_integer(indexer):\n\u001b[1;32m   4104\u001b[0m     indexer \u001b[38;5;241m=\u001b[39m [indexer]\n",
      "File \u001b[0;32m~/Desktop/Python Kick/venv/lib/python3.12/site-packages/pandas/core/indexes/base.py:3812\u001b[0m, in \u001b[0;36mIndex.get_loc\u001b[0;34m(self, key)\u001b[0m\n\u001b[1;32m   3807\u001b[0m     \u001b[38;5;28;01mif\u001b[39;00m \u001b[38;5;28misinstance\u001b[39m(casted_key, \u001b[38;5;28mslice\u001b[39m) \u001b[38;5;129;01mor\u001b[39;00m (\n\u001b[1;32m   3808\u001b[0m         \u001b[38;5;28misinstance\u001b[39m(casted_key, abc\u001b[38;5;241m.\u001b[39mIterable)\n\u001b[1;32m   3809\u001b[0m         \u001b[38;5;129;01mand\u001b[39;00m \u001b[38;5;28many\u001b[39m(\u001b[38;5;28misinstance\u001b[39m(x, \u001b[38;5;28mslice\u001b[39m) \u001b[38;5;28;01mfor\u001b[39;00m x \u001b[38;5;129;01min\u001b[39;00m casted_key)\n\u001b[1;32m   3810\u001b[0m     ):\n\u001b[1;32m   3811\u001b[0m         \u001b[38;5;28;01mraise\u001b[39;00m InvalidIndexError(key)\n\u001b[0;32m-> 3812\u001b[0m     \u001b[38;5;28;01mraise\u001b[39;00m \u001b[38;5;167;01mKeyError\u001b[39;00m(key) \u001b[38;5;28;01mfrom\u001b[39;00m \u001b[38;5;21;01merr\u001b[39;00m\n\u001b[1;32m   3813\u001b[0m \u001b[38;5;28;01mexcept\u001b[39;00m \u001b[38;5;167;01mTypeError\u001b[39;00m:\n\u001b[1;32m   3814\u001b[0m     \u001b[38;5;66;03m# If we have a listlike key, _check_indexing_error will raise\u001b[39;00m\n\u001b[1;32m   3815\u001b[0m     \u001b[38;5;66;03m#  InvalidIndexError. Otherwise we fall through and re-raise\u001b[39;00m\n\u001b[1;32m   3816\u001b[0m     \u001b[38;5;66;03m#  the TypeError.\u001b[39;00m\n\u001b[1;32m   3817\u001b[0m     \u001b[38;5;28mself\u001b[39m\u001b[38;5;241m.\u001b[39m_check_indexing_error(key)\n",
      "\u001b[0;31mKeyError\u001b[0m: 'SIGLA'"
     ]
    }
   ],
   "source": [
    "# Filtrar instituições com sigla que terminam com /SP ou /MG\n",
    "df_sp_mg = df[(df['SIGLA'].str.endswith('/SP')) | (df['SIGLA'].str.endswith('/MG'))]\n",
    "\n",
    "# Print the resulting dataframe\n",
    "print(df_sp_mg)\n",
    "\n",
    "\n",
    "# Selecionar as 20 instituições com a maior razão de candidatos por vaga em MG\n",
    "df_sorted_mg = df_mg.sort_values('Razao_Candidatos_por_Vaga', ascending=False)\n",
    "df_top_20_mg = df_sorted_mg.head(20)\n",
    "\n",
    "# Gerar gráfico de barras para MG\n",
    "plt.figure(figsize=(10, 6))\n",
    "plt.barh(df_top_20_mg['SIGLA_IES'], df_top_20_mg['Razao_Candidatos_por_Vaga'])\n",
    "plt.xlabel('Razão de Candidatos por Vaga')\n",
    "plt.ylabel('Universidade (Sigla) - Estado (Sigla)')\n",
    "plt.title('Razão de Candidatos por Vaga por Universidade e Estado - MG')\n",
    "\n",
    "# Salvar gráfico como imagem para MG\n",
    "plt.savefig('graph_mg.png', bbox_inches='tight')\n",
    "\n",
    "# Selecionar as 20 instituições com a maior razão de candidatos por vaga em SP\n",
    "df_sorted_sp = df_sp.sort_values('Razao_Candidatos_por_Vaga', ascending=False)\n",
    "df_top_20_sp = df_sorted_sp.head(20)\n",
    "\n",
    "# Gerar gráfico de barras para SP\n",
    "plt.figure(figsize=(10, 6))\n",
    "plt.barh(df_top_20_sp['SIGLA_IES'], df_top_20_sp['Razao_Candidatos_por_Vaga'])\n",
    "plt.xlabel('Razão de Candidatos por Vaga')\n",
    "plt.ylabel('Universidade (Sigla) - Estado (Sigla)')\n",
    "plt.title('Razão de Candidatos por Vaga por Universidade e Estado - SP')\n",
    "\n",
    "# Salvar gráfico como imagem para SP\n",
    "plt.savefig('graph_sp.png', bbox_inches='tight')"
   ]
  }
 ],
 "metadata": {
  "kernelspec": {
   "display_name": "venv",
   "language": "python",
   "name": "python3"
  },
  "language_info": {
   "codemirror_mode": {
    "name": "ipython",
    "version": 3
   },
   "file_extension": ".py",
   "mimetype": "text/x-python",
   "name": "python",
   "nbconvert_exporter": "python",
   "pygments_lexer": "ipython3",
   "version": "3.12.4"
  }
 },
 "nbformat": 4,
 "nbformat_minor": 2
}
