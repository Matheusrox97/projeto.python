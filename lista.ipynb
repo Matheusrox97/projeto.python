{
 "cells": [
  {
   "cell_type": "code",
   "execution_count": null,
   "metadata": {},
   "outputs": [],
   "source": [
    "import pandas as pd\n",
    "import matplotlib.pyplot as plt\n",
    "from fpdf import FPDF\n",
    "\n",
    "# Carregar dados do arquivo CSV\n",
    "df = pd.read_csv('lista_de_espera_sisu_2022_1.csv', sep='|', encoding='latin-1')\n",
    "\n",
    "print(df.columns)\n",
    "\n"
   ]
  },
  {
   "cell_type": "code",
   "execution_count": 10,
   "metadata": {},
   "outputs": [],
   "source": [
    "# Adicionar coluna NUM_CANDIDATOS com valor fixo\n",
    "df['NUM_CANDIDATOS'] = 3476226"
   ]
  },
  {
   "cell_type": "code",
   "execution_count": 12,
   "metadata": {},
   "outputs": [],
   "source": [
    "# Agrupar dados por universidade e estado\n",
    "df_grouped = df.groupby(['SIGLA_IES', 'UF_IES']).agg({'QT_VAGAS_CONCORRENCIA': 'sum', 'NUM_CANDIDATOS': 'sum'})\n",
    "\n",
    "# Calcular a razão de candidatos por vaga\n",
    "df_grouped['Razao_Candidatos_por_Vaga'] = df_grouped['NUM_CANDIDATOS'] / df_grouped['QT_VAGAS_CONCORRENCIA']\n",
    "\n",
    "# Renomear colunas\n",
    "df_grouped.columns = ['Vagas', 'Candidatos', 'Razao_Candidatos_por_Vaga']\n",
    "\n",
    "# Ordenar dados por razão de candidatos por vaga em ordem decrescente\n",
    "df_grouped = df_grouped.sort_values(by='Razao_Candidatos_por_Vaga', ascending=False)"
   ]
  },
  {
   "cell_type": "code",
   "execution_count": null,
   "metadata": {},
   "outputs": [],
   "source": [
    "# Selecionar as 20 instituições com a maior razão de candidatos por vaga\n",
    "df_top_20 = df_grouped.nlargest(20, 'Razao_Candidatos_por_Vaga')\n",
    "\n",
    "# Gerar gráfico de barras\n",
    "plt.figure(figsize=(10, 6))\n",
    "plt.barh(df_top_20.index.get_level_values('SIGLA_IES'), df_top_20['Razao_Candidatos_por_Vaga'])\n",
    "plt.xlabel('Razão de Candidatos por Vaga')\n",
    "plt.ylabel('Universidade (Sigla) - Estado (Sigla)')\n",
    "plt.title('Razão de Candidatos por Vaga por Universidade e Estado')\n",
    "\n",
    "# Salvar gráfico como imagem\n",
    "plt.savefig('graph.png', bbox_inches='tight')"
   ]
  }
 ],
 "metadata": {
  "kernelspec": {
   "display_name": "venv",
   "language": "python",
   "name": "python3"
  },
  "language_info": {
   "codemirror_mode": {
    "name": "ipython",
    "version": 3
   },
   "file_extension": ".py",
   "mimetype": "text/x-python",
   "name": "python",
   "nbconvert_exporter": "python",
   "pygments_lexer": "ipython3",
   "version": "3.12.4"
  }
 },
 "nbformat": 4,
 "nbformat_minor": 2
}
